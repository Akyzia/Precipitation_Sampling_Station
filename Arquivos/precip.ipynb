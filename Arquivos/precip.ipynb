{
 "cells": [
  {
   "cell_type": "code",
   "execution_count": 2,
   "metadata": {},
   "outputs": [
    {
     "ename": "AttributeError",
     "evalue": "type object 'ANA' has no attribute 'prec_stations_values'",
     "output_type": "error",
     "traceback": [
      "\u001b[1;31m---------------------------------------------------------------------------\u001b[0m",
      "\u001b[1;31mAttributeError\u001b[0m                            Traceback (most recent call last)",
      "Cell \u001b[1;32mIn[2], line 13\u001b[0m\n\u001b[0;32m     10\u001b[0m codigo_estacao \u001b[38;5;241m=\u001b[39m lista_estacoes_city[\u001b[38;5;124m\"\u001b[39m\u001b[38;5;124mCode\u001b[39m\u001b[38;5;124m\"\u001b[39m]\u001b[38;5;241m.\u001b[39mtolist()\n\u001b[0;32m     12\u001b[0m \u001b[38;5;66;03m# Buscar os valores de precipitação dessas estações\u001b[39;00m\n\u001b[1;32m---> 13\u001b[0m data_stations_index \u001b[38;5;241m=\u001b[39m hydrobr\u001b[38;5;241m.\u001b[39mget_data\u001b[38;5;241m.\u001b[39mANA\u001b[38;5;241m.\u001b[39mprec_stations_values(codigo_estacao)\n\u001b[0;32m     15\u001b[0m \u001b[38;5;66;03m# Resetar o índice para garantir que 'index' exista\u001b[39;00m\n\u001b[0;32m     16\u001b[0m data_stations_index\u001b[38;5;241m.\u001b[39mreset_index(inplace\u001b[38;5;241m=\u001b[39m\u001b[38;5;28;01mTrue\u001b[39;00m)\n",
      "\u001b[1;31mAttributeError\u001b[0m: type object 'ANA' has no attribute 'prec_stations_values'"
     ]
    }
   ],
   "source": [
    "import hydrobr\n",
    "import pandas as pd\n",
    "\n",
    "lista_estacoes = hydrobr.get_data.ANA.list_prec_stations()\n",
    "\n",
    "# Filtrar para a cidade desejada\n",
    "lista_estacoes_city = lista_estacoes[lista_estacoes[\"City\"] == \"JOINVILLE\"]\n",
    "\n",
    "# Obter os códigos das estações filtradas\n",
    "codigo_estacao = lista_estacoes_city[\"Code\"].tolist()\n",
    "\n",
    "# Buscar os valores de precipitação dessas estações\n",
    "data_stations_index = hydrobr.get_data.ANA.prec_stations_values(codigo_estacao)\n",
    "\n",
    "# Resetar o índice para garantir que 'index' exista\n",
    "data_stations_index.reset_index(inplace=True)\n",
    "\n",
    "# Verificar a estrutura do DataFrame\n",
    "display(data_stations_index.head())\n",
    "print(data_stations_index.columns)\n"
   ]
  },
  {
   "cell_type": "code",
   "execution_count": null,
   "metadata": {},
   "outputs": [],
   "source": []
  },
  {
   "cell_type": "code",
   "execution_count": null,
   "metadata": {},
   "outputs": [],
   "source": []
  },
  {
   "cell_type": "code",
   "execution_count": null,
   "metadata": {},
   "outputs": [],
   "source": []
  },
  {
   "cell_type": "code",
   "execution_count": null,
   "metadata": {},
   "outputs": [],
   "source": []
  }
 ],
 "metadata": {
  "kernelspec": {
   "display_name": "Python (base)",
   "language": "python",
   "name": "base"
  },
  "language_info": {
   "codemirror_mode": {
    "name": "ipython",
    "version": 3
   },
   "file_extension": ".py",
   "mimetype": "text/x-python",
   "name": "python",
   "nbconvert_exporter": "python",
   "pygments_lexer": "ipython3",
   "version": "3.12.3"
  }
 },
 "nbformat": 4,
 "nbformat_minor": 2
}
